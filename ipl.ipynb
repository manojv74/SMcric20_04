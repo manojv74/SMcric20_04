{
 "cells": [
  {
   "cell_type": "code",
   "execution_count": 26,
   "metadata": {},
   "outputs": [
    {
     "ename": "ModuleNotFoundError",
     "evalue": "No module named 'numpy'",
     "output_type": "error",
     "traceback": [
      "\u001b[1;31m---------------------------------------------------------------------------\u001b[0m",
      "\u001b[1;31mModuleNotFoundError\u001b[0m                       Traceback (most recent call last)",
      "Cell \u001b[1;32mIn[26], line 3\u001b[0m\n\u001b[0;32m      1\u001b[0m \u001b[38;5;66;03m# Library for numerical operations\u001b[39;00m\n\u001b[0;32m      2\u001b[0m  \u001b[38;5;66;03m# Library for data manipulation and analysis\u001b[39;00m\n\u001b[1;32m----> 3\u001b[0m \u001b[38;5;28;01mimport\u001b[39;00m \u001b[38;5;21;01mnumpy\u001b[39;00m \u001b[38;5;28;01mas\u001b[39;00m \u001b[38;5;21;01mnp\u001b[39;00m\n\u001b[0;32m      4\u001b[0m \u001b[38;5;28;01mimport\u001b[39;00m \u001b[38;5;21;01mpandas\u001b[39;00m \u001b[38;5;28;01mas\u001b[39;00m \u001b[38;5;21;01mpd\u001b[39;00m\n\u001b[0;32m      5\u001b[0m \u001b[38;5;28;01mimport\u001b[39;00m \u001b[38;5;21;01mmatplotlib\u001b[39;00m\u001b[38;5;21;01m.\u001b[39;00m\u001b[38;5;21;01mpyplot\u001b[39;00m \u001b[38;5;28;01mas\u001b[39;00m \u001b[38;5;21;01mplt\u001b[39;00m  \u001b[38;5;66;03m# Library for creating visualizations\u001b[39;00m\n",
      "\u001b[1;31mModuleNotFoundError\u001b[0m: No module named 'numpy'"
     ]
    }
   ],
   "source": [
    "\n",
    " # Library for numerical operations\n",
    "  # Library for data manipulation and analysis\n",
    "import numpy as np\n",
    "import pandas as pd\n",
    "import matplotlib.pyplot as plt  # Library for creating visualizations\n",
    "import seaborn as sns  # Library for advanced data visualization\n",
    "from sklearn.model_selection import train_test_split  # Function to split data into training and testing sets\n",
    "from sklearn.ensemble import RandomForestClassifier  # Random Forest classifier model\n",
    "from sklearn.linear_model import LogisticRegression\n",
    "from sklearn.svm import SVC     # Import the SVC class for support vector machine classification\n",
    "from sklearn.metrics import accuracy_score  # Function to calculate accuracy score\n",
    "# Importing LightGBM library\n",
    "import lightgbm as lgb"
   ]
  },
  {
   "cell_type": "code",
   "execution_count": null,
   "metadata": {},
   "outputs": [],
   "source": [
    "data = pd.read_csv('/Users/samuel/Downloads/Project/codem/SMcric/matches.csv')\n",
    "data.head(10)"
   ]
  },
  {
   "cell_type": "code",
   "execution_count": null,
   "metadata": {},
   "outputs": [],
   "source": [
    "# Replacing 'Rising Pune Supergiants' with 'Rising Pune Supergiant' in the 'team1', 'team2', 'winner', and 'toss_winner' columns.\n",
    "data.team1.replace({'Rising Pune Supergiants': 'Rising Pune Supergiant'}, regex=True, inplace=True)\n",
    "data.team2.replace({'Rising Pune Supergiants': 'Rising Pune Supergiant'}, regex=True, inplace=True)\n",
    "data.winner.replace({'Rising Pune Supergiants': 'Rising Pune Supergiant'}, regex=True, inplace=True)\n",
    "data.toss_winner.replace({'Rising Pune Supergiants': 'Rising Pune Supergiant'}, regex=True, inplace=True)\n",
    "\n",
    "# Replacing 'Deccan Chargers' with 'Sunrisers Hyderabad' in the 'team1', 'team2', 'winner', and 'toss_winner' columns.\n",
    "data.team1.replace({'Deccan Chargers': 'Sunrisers Hyderabad'}, regex=True, inplace=True)\n",
    "data.team2.replace({'Deccan Chargers': 'Sunrisers Hyderabad'}, regex=True, inplace=True)\n",
    "data.winner.replace({'Deccan Chargers': 'Sunrisers Hyderabad'}, regex=True, inplace=True)\n",
    "data.toss_winner.replace({'Deccan Chargers': 'Sunrisers Hyderabad'}, regex=True, inplace=True)\n",
    "\n",
    "# Replacing 'Delhi Daredevils' with 'Delhi Capitals' in the 'team1', 'team2', 'winner', and 'toss_winner' columns.\n",
    "data.team1.replace({'Delhi Daredevils': 'Delhi Capitals'}, regex=True, inplace=True)\n",
    "data.team2.replace({'Delhi Daredevils': 'Delhi Capitals'}, regex=True, inplace=True)\n",
    "data.winner.replace({'Delhi Daredevils': 'Delhi Capitals'}, regex=True, inplace=True)\n",
    "data.toss_winner.replace({'Delhi Daredevils': 'Delhi Capitals'}, regex=True, inplace=True)\n",
    "\n",
    "# Replacing 'Pune Warriors' with 'Rising Pune Supergiant' in the 'team1', 'team2', 'winner', and 'toss_winner' columns.\n",
    "data.team1.replace({'Pune Warriors': 'Rising Pune Supergiant'}, regex=True, inplace=True)\n",
    "data.team2.replace({'Pune Warriors': 'Rising Pune Supergiant'}, regex=True, inplace=True)\n",
    "data.winner.replace({'Pune Warriors': 'Rising Pune Supergiant'}, regex=True, inplace=True)\n",
    "data.toss_winner.replace({'Pune Warriors': 'Rising Pune Supergiant'}, regex=True, inplace=True)\n",
    "data.team1.replace({'Kings XI Punjab': 'Punjab Kings'}, regex=True, inplace=True)\n",
    "data.team2.replace({'Kings XI Punjab': 'Punjab Kings'}, regex=True, inplace=True)\n",
    "data.winner.replace({'Kings XI Punjab': 'Punjab Kings'}, regex=True, inplace=True)\n",
    "data.toss_winner.replace({'Kings XI Punjab': 'Punjab Kings'}, regex=True, inplace=True)\n",
    "\n",
    "data.team1.replace({'Gujarat Lions': 'Gujarat Titans'}, regex=True, inplace=True)\n",
    "data.team2.replace({'Gujarat Lions': 'Gujarat Titans'}, regex=True, inplace=True)\n",
    "data.winner.replace({'Gujarat Lions': 'Gujarat Titans'}, regex=True, inplace=True)\n",
    "data.toss_winner.replace({'Gujarat Lions': 'Gujarat Titans'}, regex=True, inplace=True)\n",
    "data.team1.replace({'Royal Challengers Bangalore': 'Royal Challengers Bengaluru'}, regex=True, inplace=True)\n",
    "data.team2.replace({'Royal Challengers Bangalore': 'Royal Challengers Bengaluru'}, regex=True, inplace=True)\n",
    "data.winner.replace({'Royal Challengers Bangalore': 'Royal Challengers Bengaluru'}, regex=True, inplace=True)\n",
    "data.toss_winner.replace({'Royal Challengers Bangalore': 'Royal Challengers Bengaluru'}, regex=True, inplace=True)"
   ]
  },
  {
   "cell_type": "code",
   "execution_count": null,
   "metadata": {},
   "outputs": [],
   "source": [
    "(data['team1'].unique())"
   ]
  },
  {
   "cell_type": "code",
   "execution_count": null,
   "metadata": {},
   "outputs": [],
   "source": [
    "data.isnull().sum()"
   ]
  },
  {
   "cell_type": "code",
   "execution_count": null,
   "metadata": {},
   "outputs": [],
   "source": [
    "data['city'].fillna('Unknown', inplace=True)"
   ]
  },
  {
   "cell_type": "code",
   "execution_count": null,
   "metadata": {},
   "outputs": [],
   "source": [
    "cols_to_fill = ['player_of_match', 'target_runs', 'target_overs','toss_decision','winner']\n",
    "data[cols_to_fill] = data[cols_to_fill].fillna('Not Available')"
   ]
  },
  {
   "cell_type": "code",
   "execution_count": null,
   "metadata": {},
   "outputs": [],
   "source": [
    "data['date'] = pd.to_datetime(data['date'])\n",
    "\n",
    "# Extract the year from the 'date' column and create a new 'season' column\n",
    "data['season'] = pd.DatetimeIndex(data['date']).year"
   ]
  },
  {
   "cell_type": "code",
   "execution_count": null,
   "metadata": {},
   "outputs": [],
   "source": [
    "# Calculate the mean of the 'result_margin' column\n",
    "mean_result_margin = data['result_margin'].mean()\n",
    "\n",
    "# Fill missing values in 'result_margin' column with the mean\n",
    "data['result_margin'].fillna(mean_result_margin, inplace=True)"
   ]
  },
  {
   "cell_type": "code",
   "execution_count": null,
   "metadata": {},
   "outputs": [],
   "source": [
    "data.isnull().sum()"
   ]
  },
  {
   "cell_type": "code",
   "execution_count": null,
   "metadata": {},
   "outputs": [],
   "source": [
    "data=data[data['winner']!='Not Available']"
   ]
  },
  {
   "cell_type": "code",
   "execution_count": null,
   "metadata": {},
   "outputs": [],
   "source": [
    "data.drop(['id','method'],axis=1,inplace=True)"
   ]
  },
  {
   "cell_type": "code",
   "execution_count": null,
   "metadata": {},
   "outputs": [],
   "source": [
    "data.isnull().sum()"
   ]
  },
  {
   "cell_type": "code",
   "execution_count": null,
   "metadata": {},
   "outputs": [],
   "source": [
    "len(data['city'].unique())"
   ]
  },
  {
   "cell_type": "code",
   "execution_count": null,
   "metadata": {},
   "outputs": [],
   "source": [
    "data.city.replace({'Bangalore': 'Bengaluru'}, regex=True, inplace=True)\n",
    "data.city.replace({'Navi Mumbai': 'Mumbai'}, regex=True, inplace=True)"
   ]
  },
  {
   "cell_type": "code",
   "execution_count": null,
   "metadata": {},
   "outputs": [],
   "source": [
    "plt.figure(figsize=(10, 6))\n",
    "\n",
    "# Use Seaborn's countplot to plot the number of matches played at each venue\n",
    "# The 'x' parameter is set to 'venue', and 'data' specifies the DataFrame to use for plotting\n",
    "sns.countplot(x='city', data=data)\n",
    "\n",
    "# Rotate the x-axis labels by 90 degrees for better visibility\n",
    "plt.xticks(rotation=90)\n",
    "\n",
    "# Add labels for x and y axes\n",
    "plt.xlabel('city')\n",
    "plt.ylabel('Count')\n",
    "\n",
    "# Add a title to the plot\n",
    "plt.title('Matches Count by city')\n",
    "\n",
    "# Display the plot\n",
    "plt.show()"
   ]
  },
  {
   "cell_type": "code",
   "execution_count": null,
   "metadata": {},
   "outputs": [],
   "source": [
    "venue_counts = data['city'].value_counts().head(10)\n",
    "print(venue_counts)"
   ]
  },
  {
   "cell_type": "code",
   "execution_count": null,
   "metadata": {},
   "outputs": [],
   "source": [
    "# Cross-tabulation\n",
    "cross_tab = pd.crosstab(data['team1'], data['winner'])\n",
    "\n",
    "# Plotting Heatmap for Cross-tabulation\n",
    "plt.figure(figsize=(12, 8))\n",
    "sns.heatmap(cross_tab, annot=True, cmap='YlGnBu', fmt='d')\n",
    "plt.xlabel('Winner')\n",
    "plt.ylabel('Team 1')\n",
    "plt.title('Team 1 vs. Winner Cross-tabulation')\n",
    "plt.show()"
   ]
  },
  {
   "cell_type": "code",
   "execution_count": null,
   "metadata": {},
   "outputs": [],
   "source": [
    "data.head(5)"
   ]
  },
  {
   "cell_type": "code",
   "execution_count": null,
   "metadata": {},
   "outputs": [],
   "source": [
    "data.head(5)"
   ]
  },
  {
   "cell_type": "code",
   "execution_count": null,
   "metadata": {},
   "outputs": [],
   "source": [
    "unwanted_columns = ['date','season','umpire1','umpire2','super_over','match_type']\n",
    "\n",
    "# Drop the unwanted columns from the DataFrame\n",
    "data.drop(columns=unwanted_columns, inplace=True)"
   ]
  },
  {
   "cell_type": "code",
   "execution_count": null,
   "metadata": {},
   "outputs": [],
   "source": [
    "data.head(5)"
   ]
  },
  {
   "cell_type": "code",
   "execution_count": null,
   "metadata": {},
   "outputs": [],
   "source": [
    "data.columns"
   ]
  },
  {
   "cell_type": "code",
   "execution_count": null,
   "metadata": {},
   "outputs": [],
   "source": [
    "data.head(5)"
   ]
  },
  {
   "cell_type": "code",
   "execution_count": null,
   "metadata": {},
   "outputs": [],
   "source": []
  },
  {
   "cell_type": "code",
   "execution_count": null,
   "metadata": {},
   "outputs": [],
   "source": []
  }
 ],
 "metadata": {
  "kernelspec": {
   "display_name": ".venv",
   "language": "python",
   "name": "python3"
  },
  "language_info": {
   "codemirror_mode": {
    "name": "ipython",
    "version": 3
   },
   "file_extension": ".py",
   "mimetype": "text/x-python",
   "name": "python",
   "nbconvert_exporter": "python",
   "pygments_lexer": "ipython3",
   "version": "3.12.7"
  }
 },
 "nbformat": 4,
 "nbformat_minor": 2
}
